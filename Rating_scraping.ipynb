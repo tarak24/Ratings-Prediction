{
 "cells": [
  {
   "cell_type": "code",
   "execution_count": 1,
   "id": "60b7e700",
   "metadata": {},
   "outputs": [],
   "source": [
    "import selenium\n",
    "import time\n",
    "import pandas as pd\n",
    "from selenium import webdriver"
   ]
  },
  {
   "cell_type": "code",
   "execution_count": 2,
   "id": "acd1f411",
   "metadata": {},
   "outputs": [
    {
     "name": "stderr",
     "output_type": "stream",
     "text": [
      "<ipython-input-2-0af43046ad15>:1: DeprecationWarning: executable_path has been deprecated, please pass in a Service object\n",
      "  driver=webdriver.Chrome(r\"C:\\Users\\DELL\\Downloads\\chromedriver.exe\")\n"
     ]
    }
   ],
   "source": [
    "driver=webdriver.Chrome(r\"C:\\Users\\DELL\\Downloads\\chromedriver.exe\")"
   ]
  },
  {
   "cell_type": "code",
   "execution_count": 3,
   "id": "b73cc3df",
   "metadata": {},
   "outputs": [],
   "source": [
    "## Scraping reviews for printers\n",
    "\n",
    "\n",
    "driver.get(\"https://www.flipkart.com/search?q=printers&otracker=search&otracker1=search&marketplace=FLIPKART&as-show=on&as=off\")\n",
    "time.sleep(5)"
   ]
  },
  {
   "cell_type": "code",
   "execution_count": 4,
   "id": "c2fcdec9",
   "metadata": {},
   "outputs": [],
   "source": [
    "rating=[]\n",
    "fullrew=[]"
   ]
  },
  {
   "cell_type": "code",
   "execution_count": 5,
   "id": "4c5c8aa4",
   "metadata": {},
   "outputs": [
    {
     "name": "stderr",
     "output_type": "stream",
     "text": [
      "<ipython-input-5-b29d6493d07d>:2: DeprecationWarning: find_elements_by_* commands are deprecated. Please use find_elements() instead\n",
      "  link_tag=driver.find_elements_by_xpath(\"//a[@class='s1Q9rs']\")\n"
     ]
    }
   ],
   "source": [
    "ur=[]\n",
    "link_tag=driver.find_elements_by_xpath(\"//a[@class='s1Q9rs']\")\n",
    "for i in link_tag:\n",
    "    link=i.get_attribute('href')\n",
    "    ur.append(link)"
   ]
  },
  {
   "cell_type": "code",
   "execution_count": 6,
   "id": "7f637164",
   "metadata": {},
   "outputs": [
    {
     "name": "stderr",
     "output_type": "stream",
     "text": [
      "<ipython-input-6-c71a605958be>:5: DeprecationWarning: find_element_by_* commands are deprecated. Please use find_element() instead\n",
      "  search_btn=driver.find_element_by_xpath(\"//span[@class='MCE--B']\")\n",
      "<ipython-input-6-c71a605958be>:11: DeprecationWarning: find_elements_by_* commands are deprecated. Please use find_elements() instead\n",
      "  rating_tags=driver.find_elements_by_xpath(\"//div[@class='_3LWZlK _1BLPMq']\")\n",
      "<ipython-input-6-c71a605958be>:12: DeprecationWarning: find_elements_by_* commands are deprecated. Please use find_elements() instead\n",
      "  fullrew_tags=driver.find_elements_by_xpath(\"//div[@class='t-ZTKy']\")\n"
     ]
    }
   ],
   "source": [
    "for i in ur:\n",
    "    driver.get(i)\n",
    "    time.sleep(3)\n",
    "    try:\n",
    "        search_btn=driver.find_element_by_xpath(\"//span[@class='MCE--B']\")\n",
    "        search_btn.click()\n",
    "    except:\n",
    "        continue\n",
    "        \n",
    "\n",
    "    rating_tags=driver.find_elements_by_xpath(\"//div[@class='_3LWZlK _1BLPMq']\")\n",
    "    fullrew_tags=driver.find_elements_by_xpath(\"//div[@class='t-ZTKy']\")\n",
    "    \n",
    "    for j in rating_tags:\n",
    "        try:\n",
    "            r1=j.text\n",
    "            rating.append(r1)\n",
    "        except:\n",
    "            rating.append('-')\n",
    "            \n",
    "    \n",
    "    for j in fullrew_tags:\n",
    "        try:\n",
    "            r2=j.text\n",
    "            fullrew.append(r2)\n",
    "        except:\n",
    "            fullrew.append('-')"
   ]
  },
  {
   "cell_type": "code",
   "execution_count": 7,
   "id": "b1c7f18f",
   "metadata": {},
   "outputs": [],
   "source": [
    "## Scraping reviews for Headphones\n",
    "\n",
    "driver.get(\"https://www.flipkart.com/search?q=headphones&sid=0pm%2Cfcn&as=on&as-show=on&otracker=AS_QueryStore_OrganicAutoSuggest_1_4_na_na_na&otracker1=AS_QueryStore_OrganicAutoSuggest_1_4_na_na_na&as-pos=1&as-type=RECENT&suggestionId=headphones%7CHeadphones&requestId=a5e34f84-0b66-4c0e-ad9c-bfcd858e7660&as-searchtext=head\")\n",
    "time.sleep(5)"
   ]
  },
  {
   "cell_type": "code",
   "execution_count": 8,
   "id": "23d9c515",
   "metadata": {},
   "outputs": [
    {
     "name": "stderr",
     "output_type": "stream",
     "text": [
      "<ipython-input-8-b29d6493d07d>:2: DeprecationWarning: find_elements_by_* commands are deprecated. Please use find_elements() instead\n",
      "  link_tag=driver.find_elements_by_xpath(\"//a[@class='s1Q9rs']\")\n"
     ]
    }
   ],
   "source": [
    "ur=[]\n",
    "link_tag=driver.find_elements_by_xpath(\"//a[@class='s1Q9rs']\")\n",
    "for i in link_tag:\n",
    "    link=i.get_attribute('href')\n",
    "    ur.append(link)"
   ]
  },
  {
   "cell_type": "code",
   "execution_count": 9,
   "id": "6d55bd82",
   "metadata": {},
   "outputs": [
    {
     "name": "stderr",
     "output_type": "stream",
     "text": [
      "<ipython-input-9-8ed7324b8393>:5: DeprecationWarning: find_element_by_* commands are deprecated. Please use find_element() instead\n",
      "  search_btn=driver.find_element_by_xpath(\"//span[@class='MCE--B']\")\n",
      "<ipython-input-9-8ed7324b8393>:10: DeprecationWarning: find_elements_by_* commands are deprecated. Please use find_elements() instead\n",
      "  rating_tags=driver.find_elements_by_xpath(\"//div[@class='_3LWZlK _1BLPMq']\")\n",
      "<ipython-input-9-8ed7324b8393>:11: DeprecationWarning: find_elements_by_* commands are deprecated. Please use find_elements() instead\n",
      "  fullrew_tags=driver.find_elements_by_xpath(\"//div[@class='t-ZTKy']\")\n"
     ]
    }
   ],
   "source": [
    "for i in ur:\n",
    "    driver.get(i)\n",
    "    time.sleep(4)\n",
    "    try:\n",
    "        search_btn=driver.find_element_by_xpath(\"//span[@class='MCE--B']\")\n",
    "        search_btn.click()\n",
    "    except:\n",
    "        continue\n",
    "        \n",
    "    rating_tags=driver.find_elements_by_xpath(\"//div[@class='_3LWZlK _1BLPMq']\")\n",
    "    fullrew_tags=driver.find_elements_by_xpath(\"//div[@class='t-ZTKy']\")\n",
    "    \n",
    "    for j in rating_tags:\n",
    "        try:\n",
    "            r1=j.text\n",
    "            rating.append(r1)\n",
    "        except:\n",
    "            rating.append('-')\n",
    "            \n",
    "    \n",
    "    for j in fullrew_tags:\n",
    "        try:\n",
    "            r2=j.text\n",
    "            fullrew.append(r2)\n",
    "        except:\n",
    "            fullrew.append('-')"
   ]
  },
  {
   "cell_type": "code",
   "execution_count": 10,
   "id": "5c16eefc",
   "metadata": {},
   "outputs": [
    {
     "name": "stderr",
     "output_type": "stream",
     "text": [
      "<ipython-input-10-9421323a5146>:7: DeprecationWarning: find_elements_by_* commands are deprecated. Please use find_elements() instead\n",
      "  link_tag=driver.find_elements_by_xpath(\"//a[@class='s1Q9rs']\")\n",
      "<ipython-input-10-9421323a5146>:16: DeprecationWarning: find_element_by_* commands are deprecated. Please use find_element() instead\n",
      "  search_btn=driver.find_element_by_xpath(\"//span[@class='MCE--B']\")\n",
      "<ipython-input-10-9421323a5146>:21: DeprecationWarning: find_elements_by_* commands are deprecated. Please use find_elements() instead\n",
      "  rating_tags=driver.find_elements_by_xpath(\"//div[@class='_3LWZlK _1BLPMq']\")\n",
      "<ipython-input-10-9421323a5146>:22: DeprecationWarning: find_elements_by_* commands are deprecated. Please use find_elements() instead\n",
      "  fullrew_tags=driver.find_elements_by_xpath(\"//div[@class='t-ZTKy']\")\n"
     ]
    }
   ],
   "source": [
    "## Scraping reviews for Sound bars\n",
    "\n",
    "driver.get(\"https://www.flipkart.com/audio-video/speakers/pr?sid=0pm%2C0o7&p%5B%5D=facets.type%255B%255D%3DSoundbar&otracker=categorytree&p%5B%5D=facets.serviceability%5B%5D%3Dtrue&p%5B%5D=facets.fulfilled_by%255B%255D%3DFlipkart%2BAssured&otracker=nmenu_sub_Electronics_0_Soundbars\")\n",
    "time.sleep(4)\n",
    "\n",
    "ur=[]\n",
    "link_tag=driver.find_elements_by_xpath(\"//a[@class='s1Q9rs']\")\n",
    "for i in link_tag:\n",
    "    link=i.get_attribute('href')\n",
    "    ur.append(link)\n",
    "    \n",
    "for i in ur:\n",
    "    driver.get(i)\n",
    "    time.sleep(4)\n",
    "    try:\n",
    "        search_btn=driver.find_element_by_xpath(\"//span[@class='MCE--B']\")\n",
    "        search_btn.click()\n",
    "    except:\n",
    "        continue\n",
    "        \n",
    "    rating_tags=driver.find_elements_by_xpath(\"//div[@class='_3LWZlK _1BLPMq']\")\n",
    "    fullrew_tags=driver.find_elements_by_xpath(\"//div[@class='t-ZTKy']\")\n",
    "    \n",
    "    for j in rating_tags:\n",
    "        try:\n",
    "            r1=j.text\n",
    "            rating.append(r1)\n",
    "        except:\n",
    "            rating.append('-')\n",
    "            \n",
    "    \n",
    "    for j in fullrew_tags:\n",
    "        try:\n",
    "            r2=j.text\n",
    "            fullrew.append(r2)\n",
    "        except:\n",
    "            fullrew.append('-')"
   ]
  },
  {
   "cell_type": "code",
   "execution_count": 11,
   "id": "124a8966",
   "metadata": {},
   "outputs": [
    {
     "name": "stderr",
     "output_type": "stream",
     "text": [
      "<ipython-input-11-3359fac7f50c>:7: DeprecationWarning: find_elements_by_* commands are deprecated. Please use find_elements() instead\n",
      "  link_tag=driver.find_elements_by_xpath(\"//a[@class='s1Q9rs']\")\n",
      "<ipython-input-11-3359fac7f50c>:16: DeprecationWarning: find_element_by_* commands are deprecated. Please use find_element() instead\n",
      "  search_btn=driver.find_element_by_xpath(\"//span[@class='MCE--B']\")\n",
      "<ipython-input-11-3359fac7f50c>:21: DeprecationWarning: find_elements_by_* commands are deprecated. Please use find_elements() instead\n",
      "  rating_tags=driver.find_elements_by_xpath(\"//div[@class='_3LWZlK _1BLPMq']\")\n",
      "<ipython-input-11-3359fac7f50c>:22: DeprecationWarning: find_elements_by_* commands are deprecated. Please use find_elements() instead\n",
      "  fullrew_tags=driver.find_elements_by_xpath(\"//div[@class='t-ZTKy']\")\n"
     ]
    }
   ],
   "source": [
    "## Scraping reviews for Cameras\n",
    "\n",
    "driver.get(\"https://www.flipkart.com/search?q=cameras&otracker=search&otracker1=search&marketplace=FLIPKART&as-show=on&as=off\")\n",
    "time.sleep(4)\n",
    "\n",
    "ur=[]\n",
    "link_tag=driver.find_elements_by_xpath(\"//a[@class='s1Q9rs']\")\n",
    "for i in link_tag:\n",
    "    link=i.get_attribute('href')\n",
    "    ur.append(link)\n",
    "    \n",
    "for i in ur:\n",
    "    driver.get(i)\n",
    "    time.sleep(4)\n",
    "    try:\n",
    "        search_btn=driver.find_element_by_xpath(\"//span[@class='MCE--B']\")\n",
    "        search_btn.click()\n",
    "    except:\n",
    "        continue\n",
    "        \n",
    "    rating_tags=driver.find_elements_by_xpath(\"//div[@class='_3LWZlK _1BLPMq']\")\n",
    "    fullrew_tags=driver.find_elements_by_xpath(\"//div[@class='t-ZTKy']\")\n",
    "    \n",
    "    for j in rating_tags:\n",
    "        try:\n",
    "            r1=j.text\n",
    "            rating.append(r1)\n",
    "        except:\n",
    "            rating.append('-')\n",
    "            \n",
    "    \n",
    "    for j in fullrew_tags:\n",
    "        try:\n",
    "            r2=j.text\n",
    "            fullrew.append(r2)\n",
    "        except:\n",
    "            fullrew.append('-')"
   ]
  },
  {
   "cell_type": "code",
   "execution_count": 12,
   "id": "6bf52857",
   "metadata": {},
   "outputs": [
    {
     "name": "stderr",
     "output_type": "stream",
     "text": [
      "<ipython-input-12-0cfbb53b8500>:7: DeprecationWarning: find_elements_by_* commands are deprecated. Please use find_elements() instead\n",
      "  link_tag=driver.find_elements_by_xpath(\"//a[@class='s1Q9rs']\")\n"
     ]
    }
   ],
   "source": [
    "## Scraping reviews for smart tv\n",
    "\n",
    "driver.get(\"https://www.flipkart.com/search?q=smart%20tv&otracker=search&otracker1=search&marketplace=FLIPKART&as-show=on&as=off\")\n",
    "time.sleep(4)\n",
    "\n",
    "ur=[]\n",
    "link_tag=driver.find_elements_by_xpath(\"//a[@class='s1Q9rs']\")\n",
    "for i in link_tag:\n",
    "    link=i.get_attribute('href')\n",
    "    ur.append(link)\n",
    "    \n",
    "for i in ur:\n",
    "    driver.get(i)\n",
    "    time.sleep(4)\n",
    "    try:\n",
    "        search_btn=driver.find_element_by_xpath(\"//span[@class='MCE--B']\")\n",
    "        search_btn.click()\n",
    "    except:\n",
    "        continue\n",
    "        \n",
    "    rating_tags=driver.find_elements_by_xpath(\"//div[@class='_3LWZlK _1BLPMq']\")\n",
    "    fullrew_tags=driver.find_elements_by_xpath(\"//div[@class='t-ZTKy']\")\n",
    "    \n",
    "    for j in rating_tags:\n",
    "        try:\n",
    "            r1=j.text\n",
    "            rating.append(r1)\n",
    "        except:\n",
    "            rating.append('-')\n",
    "            \n",
    "    \n",
    "    for j in fullrew_tags:\n",
    "        try:\n",
    "            r2=j.text\n",
    "            fullrew.append(r2)\n",
    "        except:\n",
    "            fullrew.append('-')"
   ]
  },
  {
   "cell_type": "code",
   "execution_count": 13,
   "id": "10c63be4",
   "metadata": {},
   "outputs": [
    {
     "name": "stderr",
     "output_type": "stream",
     "text": [
      "<ipython-input-13-cb4dfffb9415>:7: DeprecationWarning: find_elements_by_* commands are deprecated. Please use find_elements() instead\n",
      "  link_tag=driver.find_elements_by_xpath(\"//a[@class='s1Q9rs']\")\n",
      "<ipython-input-13-cb4dfffb9415>:16: DeprecationWarning: find_element_by_* commands are deprecated. Please use find_element() instead\n",
      "  search_btn=driver.find_element_by_xpath(\"//span[@class='MCE--B']\")\n",
      "<ipython-input-13-cb4dfffb9415>:21: DeprecationWarning: find_elements_by_* commands are deprecated. Please use find_elements() instead\n",
      "  rating_tags=driver.find_elements_by_xpath(\"//div[@class='_3LWZlK _1BLPMq']\")\n",
      "<ipython-input-13-cb4dfffb9415>:22: DeprecationWarning: find_elements_by_* commands are deprecated. Please use find_elements() instead\n",
      "  fullrew_tags=driver.find_elements_by_xpath(\"//div[@class='t-ZTKy']\")\n"
     ]
    }
   ],
   "source": [
    "## Scraping reviews for earbuds\n",
    "\n",
    "driver.get(\"https://www.flipkart.com/search?q=ear+buds&sid=0pm%2Cfcn&as=on&as-show=on&otracker=AS_QueryStore_OrganicAutoSuggest_1_3_na_na_ps&otracker1=AS_QueryStore_OrganicAutoSuggest_1_3_na_na_ps&as-pos=1&as-type=RECENT&suggestionId=ear+buds%7CHeadphones&requestId=9c53d91c-49a9-442b-9dba-e0f67234ccf2&as-searchtext=ear\")\n",
    "time.sleep(4)\n",
    "\n",
    "ur=[]\n",
    "link_tag=driver.find_elements_by_xpath(\"//a[@class='s1Q9rs']\")\n",
    "for i in link_tag:\n",
    "    link=i.get_attribute('href')\n",
    "    ur.append(link)\n",
    "    \n",
    "for i in ur:\n",
    "    driver.get(i)\n",
    "    time.sleep(4)\n",
    "    try:\n",
    "        search_btn=driver.find_element_by_xpath(\"//span[@class='MCE--B']\")\n",
    "        search_btn.click()\n",
    "    except:\n",
    "        continue\n",
    "        \n",
    "    rating_tags=driver.find_elements_by_xpath(\"//div[@class='_3LWZlK _1BLPMq']\")\n",
    "    fullrew_tags=driver.find_elements_by_xpath(\"//div[@class='t-ZTKy']\")\n",
    "    \n",
    "    for j in rating_tags:\n",
    "        try:\n",
    "            r1=j.text\n",
    "            rating.append(r1)\n",
    "        except:\n",
    "            rating.append('-')\n",
    "            \n",
    "    \n",
    "    for j in fullrew_tags:\n",
    "        try:\n",
    "            r2=j.text\n",
    "            fullrew.append(r2)\n",
    "        except:\n",
    "            fullrew.append('-')"
   ]
  },
  {
   "cell_type": "code",
   "execution_count": 14,
   "id": "b31267a4",
   "metadata": {},
   "outputs": [
    {
     "name": "stderr",
     "output_type": "stream",
     "text": [
      "<ipython-input-14-f708e1d20ffc>:7: DeprecationWarning: find_elements_by_* commands are deprecated. Please use find_elements() instead\n",
      "  link_tag=driver.find_elements_by_xpath(\"//a[@class='s1Q9rs']\")\n",
      "<ipython-input-14-f708e1d20ffc>:16: DeprecationWarning: find_element_by_* commands are deprecated. Please use find_element() instead\n",
      "  search_btn=driver.find_element_by_xpath(\"//span[@class='MCE--B']\")\n",
      "<ipython-input-14-f708e1d20ffc>:21: DeprecationWarning: find_elements_by_* commands are deprecated. Please use find_elements() instead\n",
      "  rating_tags=driver.find_elements_by_xpath(\"//div[@class='_3LWZlK _1BLPMq']\")\n",
      "<ipython-input-14-f708e1d20ffc>:22: DeprecationWarning: find_elements_by_* commands are deprecated. Please use find_elements() instead\n",
      "  fullrew_tags=driver.find_elements_by_xpath(\"//div[@class='t-ZTKy']\")\n"
     ]
    }
   ],
   "source": [
    "## Scraping reviews for cpu\n",
    "\n",
    "driver.get(\"https://www.flipkart.com/search?q=cpu&otracker=search&otracker1=search&marketplace=FLIPKART&as-show=on&as=off\")\n",
    "time.sleep(4)\n",
    "\n",
    "ur=[]\n",
    "link_tag=driver.find_elements_by_xpath(\"//a[@class='s1Q9rs']\")\n",
    "for i in link_tag:\n",
    "    link=i.get_attribute('href')\n",
    "    ur.append(link)\n",
    "    \n",
    "for i in ur:\n",
    "    driver.get(i)\n",
    "    time.sleep(4)\n",
    "    try:\n",
    "        search_btn=driver.find_element_by_xpath(\"//span[@class='MCE--B']\")\n",
    "        search_btn.click()\n",
    "    except:\n",
    "        continue\n",
    "        \n",
    "    rating_tags=driver.find_elements_by_xpath(\"//div[@class='_3LWZlK _1BLPMq']\")\n",
    "    fullrew_tags=driver.find_elements_by_xpath(\"//div[@class='t-ZTKy']\")\n",
    "    \n",
    "    for j in rating_tags:\n",
    "        try:\n",
    "            r1=j.text\n",
    "            rating.append(r1)\n",
    "        except:\n",
    "            rating.append('-')\n",
    "            \n",
    "    \n",
    "    for j in fullrew_tags:\n",
    "        try:\n",
    "            r2=j.text\n",
    "            fullrew.append(r2)\n",
    "        except:\n",
    "            fullrew.append('-')"
   ]
  },
  {
   "cell_type": "code",
   "execution_count": 15,
   "id": "2523e45f",
   "metadata": {},
   "outputs": [
    {
     "name": "stderr",
     "output_type": "stream",
     "text": [
      "<ipython-input-15-f713e7710e95>:7: DeprecationWarning: find_elements_by_* commands are deprecated. Please use find_elements() instead\n",
      "  link_tag=driver.find_elements_by_xpath(\"//a[@class='s1Q9rs']\")\n"
     ]
    }
   ],
   "source": [
    "## Scraping reviews for smart watch\n",
    "\n",
    "driver.get(\"https://www.flipkart.com/search?q=smart+watches&sid=ajy%2Cbuh&as=on&as-show=on&otracker=AS_QueryStore_OrganicAutoSuggest_1_9_na_na_na&otracker1=AS_QueryStore_OrganicAutoSuggest_1_9_na_na_na&as-pos=1&as-type=RECENT&suggestionId=smart+watches%7CSmart+Watches&requestId=987ee989-e99e-4163-909e-e9bc12509e46&as-searchtext=smart%20wat\")\n",
    "time.sleep(5)\n",
    "\n",
    "ur=[]\n",
    "link_tag=driver.find_elements_by_xpath(\"//a[@class='s1Q9rs']\")\n",
    "for i in link_tag:\n",
    "    link=i.get_attribute('href')\n",
    "    ur.append(link)\n",
    "    \n",
    "for i in ur:\n",
    "    driver.get(i)\n",
    "    time.sleep(4)\n",
    "    try:\n",
    "        search_btn=driver.find_element_by_xpath(\"//span[@class='MCE--B']\")\n",
    "        search_btn.click()\n",
    "    except:\n",
    "        continue\n",
    "        \n",
    "    rating_tags=driver.find_elements_by_xpath(\"//div[@class='_3LWZlK _1BLPMq']\")\n",
    "    fullrew_tags=driver.find_elements_by_xpath(\"//div[@class='t-ZTKy']\")\n",
    "    \n",
    "    for j in rating_tags:\n",
    "        try:\n",
    "            r1=j.text\n",
    "            rating.append(r1)\n",
    "        except:\n",
    "            rating.append('-')\n",
    "            \n",
    "    \n",
    "    for j in fullrew_tags:\n",
    "        try:\n",
    "            r2=j.text\n",
    "            fullrew.append(r2)\n",
    "        except:\n",
    "            fullrew.append('-')"
   ]
  },
  {
   "cell_type": "code",
   "execution_count": 16,
   "id": "14ee5031",
   "metadata": {},
   "outputs": [
    {
     "name": "stderr",
     "output_type": "stream",
     "text": [
      "<ipython-input-16-04a2a83f5335>:7: DeprecationWarning: find_elements_by_* commands are deprecated. Please use find_elements() instead\n",
      "  link_tag=driver.find_elements_by_xpath(\"//a[@class='s1Q9rs']\")\n"
     ]
    }
   ],
   "source": [
    "## Scraping reviews for monitors\n",
    "\n",
    "driver.get(\"https://www.flipkart.com/search?q=monitor&sid=6bo%2Cg0i%2C9no&as=on&as-show=on&otracker=AS_QueryStore_OrganicAutoSuggest_2_8_na_na_na&otracker1=AS_QueryStore_OrganicAutoSuggest_2_8_na_na_na&as-pos=2&as-type=RECENT&suggestionId=monitor%7CMonitors&requestId=d5128c49-9401-43a7-8647-052929b170ff&as-searchtext=monitors\")\n",
    "time.sleep(5)\n",
    "\n",
    "ur=[]\n",
    "link_tag=driver.find_elements_by_xpath(\"//a[@class='s1Q9rs']\")\n",
    "for i in link_tag:\n",
    "    link=i.get_attribute('href')\n",
    "    ur.append(link)\n",
    "    \n",
    "for i in ur:\n",
    "    driver.get(i)\n",
    "    time.sleep(4)\n",
    "    try:\n",
    "        search_btn=driver.find_element_by_xpath(\"//span[@class='MCE--B']\")\n",
    "        search_btn.click()\n",
    "    except:\n",
    "        continue\n",
    "        \n",
    "    rating_tags=driver.find_elements_by_xpath(\"//div[@class='_3LWZlK _1BLPMq']\")\n",
    "    fullrew_tags=driver.find_elements_by_xpath(\"//div[@class='t-ZTKy']\")\n",
    "    \n",
    "    for j in rating_tags:\n",
    "        try:\n",
    "            r1=j.text\n",
    "            rating.append(r1)\n",
    "        except:\n",
    "            rating.append('-')\n",
    "            \n",
    "    \n",
    "    for j in fullrew_tags:\n",
    "        try:\n",
    "            r2=j.text\n",
    "            fullrew.append(r2)\n",
    "        except:\n",
    "            fullrew.append('-')"
   ]
  },
  {
   "cell_type": "code",
   "execution_count": 17,
   "id": "1c8b0cb9",
   "metadata": {},
   "outputs": [
    {
     "name": "stderr",
     "output_type": "stream",
     "text": [
      "<ipython-input-17-993d5d8813e1>:7: DeprecationWarning: find_elements_by_* commands are deprecated. Please use find_elements() instead\n",
      "  link_tag=driver.find_elements_by_xpath(\"//a[@class='s1Q9rs']\")\n"
     ]
    }
   ],
   "source": [
    "## Scraping reviews for laptops\n",
    "\n",
    "driver.get(\"https://www.flipkart.com/search?q=laptops&otracker=search&otracker1=search&marketplace=FLIPKART&as-show=on&as=off\")\n",
    "time.sleep(5)\n",
    "\n",
    "ur=[]\n",
    "link_tag=driver.find_elements_by_xpath(\"//a[@class='s1Q9rs']\")\n",
    "for i in link_tag:\n",
    "    link=i.get_attribute('href')\n",
    "    ur.append(link)\n",
    "    \n",
    "for i in ur:\n",
    "    driver.get(i)\n",
    "    time.sleep(4)\n",
    "    try:\n",
    "        search_btn=driver.find_element_by_xpath(\"//span[@class='MCE--B']\")\n",
    "        search_btn.click()\n",
    "    except:\n",
    "        continue\n",
    "        \n",
    "    rating_tags=driver.find_elements_by_xpath(\"//div[@class='_3LWZlK _1BLPMq']\")\n",
    "    fullrew_tags=driver.find_elements_by_xpath(\"//div[@class='t-ZTKy']\")\n",
    "    \n",
    "    for j in rating_tags:\n",
    "        try:\n",
    "            r1=j.text\n",
    "            rating.append(r1)\n",
    "        except:\n",
    "            rating.append('-')\n",
    "            \n",
    "    \n",
    "    for j in fullrew_tags:\n",
    "        try:\n",
    "            r2=j.text\n",
    "            fullrew.append(r2)\n",
    "        except:\n",
    "            fullrew.append('-')"
   ]
  },
  {
   "cell_type": "code",
   "execution_count": 18,
   "id": "3d98436b",
   "metadata": {},
   "outputs": [
    {
     "name": "stderr",
     "output_type": "stream",
     "text": [
      "<ipython-input-18-7a33c6ff0e62>:7: DeprecationWarning: find_elements_by_* commands are deprecated. Please use find_elements() instead\n",
      "  link_tag=driver.find_elements_by_xpath(\"//a[@class='s1Q9rs']\")\n",
      "<ipython-input-18-7a33c6ff0e62>:16: DeprecationWarning: find_element_by_* commands are deprecated. Please use find_element() instead\n",
      "  search_btn=driver.find_element_by_xpath(\"//span[@class='MCE--B']\")\n",
      "<ipython-input-18-7a33c6ff0e62>:21: DeprecationWarning: find_elements_by_* commands are deprecated. Please use find_elements() instead\n",
      "  rating_tags=driver.find_elements_by_xpath(\"//div[@class='_3LWZlK _1BLPMq']\")\n",
      "<ipython-input-18-7a33c6ff0e62>:22: DeprecationWarning: find_elements_by_* commands are deprecated. Please use find_elements() instead\n",
      "  fullrew_tags=driver.find_elements_by_xpath(\"//div[@class='t-ZTKy']\")\n"
     ]
    }
   ],
   "source": [
    "## Scraping reviews for Routers\n",
    "\n",
    "driver.get(\"https://www.flipkart.com/search?q=routers&otracker=search&otracker1=search&marketplace=FLIPKART&as-show=on&as=off\")\n",
    "time.sleep(5)\n",
    "\n",
    "ur=[]\n",
    "link_tag=driver.find_elements_by_xpath(\"//a[@class='s1Q9rs']\")\n",
    "for i in link_tag:\n",
    "    link=i.get_attribute('href')\n",
    "    ur.append(link)\n",
    "    \n",
    "for i in ur:\n",
    "    driver.get(i)\n",
    "    time.sleep(4)\n",
    "    try:\n",
    "        search_btn=driver.find_element_by_xpath(\"//span[@class='MCE--B']\")\n",
    "        search_btn.click()\n",
    "    except:\n",
    "        continue\n",
    "        \n",
    "    rating_tags=driver.find_elements_by_xpath(\"//div[@class='_3LWZlK _1BLPMq']\")\n",
    "    fullrew_tags=driver.find_elements_by_xpath(\"//div[@class='t-ZTKy']\")\n",
    "    \n",
    "    for j in rating_tags:\n",
    "        try:\n",
    "            r1=j.text\n",
    "            rating.append(r1)\n",
    "        except:\n",
    "            rating.append('-')\n",
    "            \n",
    "    \n",
    "    for j in fullrew_tags:\n",
    "        try:\n",
    "            r2=j.text\n",
    "            fullrew.append(r2)\n",
    "        except:\n",
    "            fullrew.append('-')"
   ]
  },
  {
   "cell_type": "code",
   "execution_count": 19,
   "id": "cf6f0258",
   "metadata": {},
   "outputs": [
    {
     "name": "stderr",
     "output_type": "stream",
     "text": [
      "<ipython-input-19-45db5f77cb64>:7: DeprecationWarning: find_elements_by_* commands are deprecated. Please use find_elements() instead\n",
      "  link_tag=driver.find_elements_by_xpath(\"//a[@class='s1Q9rs']\")\n"
     ]
    }
   ],
   "source": [
    "## Scraping reviews for Tablets\n",
    "\n",
    "driver.get(\"https://www.flipkart.com/search?q=tablet&otracker=search&otracker1=search&marketplace=FLIPKART&as-show=on&as=off\")\n",
    "time.sleep(5)\n",
    "\n",
    "ur=[]\n",
    "link_tag=driver.find_elements_by_xpath(\"//a[@class='s1Q9rs']\")\n",
    "for i in link_tag:\n",
    "    link=i.get_attribute('href')\n",
    "    ur.append(link)\n",
    "    \n",
    "for i in ur:\n",
    "    driver.get(i)\n",
    "    time.sleep(4)\n",
    "    try:\n",
    "        search_btn=driver.find_element_by_xpath(\"//span[@class='MCE--B']\")\n",
    "        search_btn.click()\n",
    "    except:\n",
    "        continue\n",
    "        \n",
    "    rating_tags=driver.find_elements_by_xpath(\"//div[@class='_3LWZlK _1BLPMq']\")\n",
    "    fullrew_tags=driver.find_elements_by_xpath(\"//div[@class='t-ZTKy']\")\n",
    "    \n",
    "    for j in rating_tags:\n",
    "        try:\n",
    "            r1=j.text\n",
    "            rating.append(r1)\n",
    "        except:\n",
    "            rating.append('-')\n",
    "            \n",
    "    \n",
    "    for j in fullrew_tags:\n",
    "        try:\n",
    "            r2=j.text\n",
    "            fullrew.append(r2)\n",
    "        except:\n",
    "            fullrew.append('-')"
   ]
  },
  {
   "cell_type": "code",
   "execution_count": 20,
   "id": "96d6f962",
   "metadata": {},
   "outputs": [
    {
     "name": "stderr",
     "output_type": "stream",
     "text": [
      "<ipython-input-20-e6375aaa2a42>:7: DeprecationWarning: find_elements_by_* commands are deprecated. Please use find_elements() instead\n",
      "  link_tag=driver.find_elements_by_xpath(\"//a[@class='s1Q9rs']\")\n",
      "<ipython-input-20-e6375aaa2a42>:16: DeprecationWarning: find_element_by_* commands are deprecated. Please use find_element() instead\n",
      "  search_btn=driver.find_element_by_xpath(\"//span[@class='MCE--B']\")\n",
      "<ipython-input-20-e6375aaa2a42>:21: DeprecationWarning: find_elements_by_* commands are deprecated. Please use find_elements() instead\n",
      "  ro=driver.find_elements_by_xpath(\"//div[@class='col']\")\n",
      "<ipython-input-20-e6375aaa2a42>:22: DeprecationWarning: find_elements_by_* commands are deprecated. Please use find_elements() instead\n",
      "  rating_tags=driver.find_elements_by_xpath(\"//div[@class='_3LWZlK _1BLPMq']\")\n",
      "<ipython-input-20-e6375aaa2a42>:23: DeprecationWarning: find_elements_by_* commands are deprecated. Please use find_elements() instead\n",
      "  fullrew_tags=driver.find_elements_by_xpath(\"//div[@class='t-ZTKy']\")\n"
     ]
    }
   ],
   "source": [
    "## Scraping reviews for Speakers\n",
    "\n",
    "driver.get(\"https://www.flipkart.com/search?q=speakers&sid=0pm%2C0o7&as=on&as-show=on&otracker=AS_QueryStore_OrganicAutoSuggest_1_4_na_na_na&otracker1=AS_QueryStore_OrganicAutoSuggest_1_4_na_na_na&as-pos=1&as-type=RECENT&suggestionId=speakers%7CSpeakers&requestId=23d5ca0d-21f0-4501-b9db-2ee4c9802f7f&as-searchtext=spea\")\n",
    "time.sleep(5)\n",
    "\n",
    "ur=[]\n",
    "link_tag=driver.find_elements_by_xpath(\"//a[@class='s1Q9rs']\")\n",
    "for i in link_tag:\n",
    "    link=i.get_attribute('href')\n",
    "    ur.append(link)\n",
    "    \n",
    "for i in ur:\n",
    "    driver.get(i)\n",
    "    time.sleep(4)\n",
    "    try:\n",
    "        search_btn=driver.find_element_by_xpath(\"//span[@class='MCE--B']\")\n",
    "        search_btn.click()\n",
    "    except:\n",
    "        continue\n",
    "        \n",
    "    ro=driver.find_elements_by_xpath(\"//div[@class='col']\")\n",
    "    rating_tags=driver.find_elements_by_xpath(\"//div[@class='_3LWZlK _1BLPMq']\")\n",
    "    fullrew_tags=driver.find_elements_by_xpath(\"//div[@class='t-ZTKy']\")\n",
    "    \n",
    "    for j in rating_tags:\n",
    "        try:\n",
    "            r1=j.text\n",
    "            rating.append(r1)\n",
    "        except:\n",
    "            rating.append('-')\n",
    "            \n",
    "    \n",
    "    for j in fullrew_tags:\n",
    "        try:\n",
    "            r2=j.text\n",
    "            fullrew.append(r2)\n",
    "        except:\n",
    "            fullrew.append('-')"
   ]
  },
  {
   "cell_type": "code",
   "execution_count": 21,
   "id": "21f4b918",
   "metadata": {},
   "outputs": [
    {
     "name": "stderr",
     "output_type": "stream",
     "text": [
      "<ipython-input-21-c8f3a5143059>:7: DeprecationWarning: find_elements_by_* commands are deprecated. Please use find_elements() instead\n",
      "  link_tag=driver.find_elements_by_xpath(\"//a[@class='s1Q9rs']\")\n",
      "<ipython-input-21-c8f3a5143059>:16: DeprecationWarning: find_element_by_* commands are deprecated. Please use find_element() instead\n",
      "  search_btn=driver.find_element_by_xpath(\"//span[@class='MCE--B']\")\n",
      "<ipython-input-21-c8f3a5143059>:21: DeprecationWarning: find_elements_by_* commands are deprecated. Please use find_elements() instead\n",
      "  rating_tags=driver.find_elements_by_xpath(\"//div[@class='_3LWZlK _1BLPMq']\")\n",
      "<ipython-input-21-c8f3a5143059>:22: DeprecationWarning: find_elements_by_* commands are deprecated. Please use find_elements() instead\n",
      "  fullrew_tags=driver.find_elements_by_xpath(\"//div[@class='t-ZTKy']\")\n"
     ]
    }
   ],
   "source": [
    "## Scraping reviews for Powerbanks\n",
    "\n",
    "driver.get(\"https://www.flipkart.com/search?q=power%20banks&otracker=search&otracker1=search&marketplace=FLIPKART&as-show=on&as=off\")\n",
    "time.sleep(5)\n",
    "\n",
    "ur=[]\n",
    "link_tag=driver.find_elements_by_xpath(\"//a[@class='s1Q9rs']\")\n",
    "for i in link_tag:\n",
    "    link=i.get_attribute('href')\n",
    "    ur.append(link)\n",
    "    \n",
    "for i in ur:\n",
    "    driver.get(i)\n",
    "    time.sleep(4)\n",
    "    try:\n",
    "        search_btn=driver.find_element_by_xpath(\"//span[@class='MCE--B']\")\n",
    "        search_btn.click()\n",
    "    except:\n",
    "        continue\n",
    "        \n",
    "    rating_tags=driver.find_elements_by_xpath(\"//div[@class='_3LWZlK _1BLPMq']\")\n",
    "    fullrew_tags=driver.find_elements_by_xpath(\"//div[@class='t-ZTKy']\")\n",
    "    \n",
    "    for j in rating_tags:\n",
    "        try:\n",
    "            r1=j.text\n",
    "            rating.append(r1)\n",
    "        except:\n",
    "            rating.append('-')\n",
    "            \n",
    "    \n",
    "    for j in fullrew_tags:\n",
    "        try:\n",
    "            r2=j.text\n",
    "            fullrew.append(r2)\n",
    "        except:\n",
    "            fullrew.append('-')"
   ]
  },
  {
   "cell_type": "code",
   "execution_count": 26,
   "id": "19cf31c3",
   "metadata": {},
   "outputs": [],
   "source": [
    "Reviews=pd.DataFrame({})\n",
    "Reviews['Review']=fullrew\n",
    "Reviews['Rating']=rating"
   ]
  },
  {
   "cell_type": "code",
   "execution_count": 27,
   "id": "916e0438",
   "metadata": {},
   "outputs": [
    {
     "data": {
      "text/html": [
       "<div>\n",
       "<style scoped>\n",
       "    .dataframe tbody tr th:only-of-type {\n",
       "        vertical-align: middle;\n",
       "    }\n",
       "\n",
       "    .dataframe tbody tr th {\n",
       "        vertical-align: top;\n",
       "    }\n",
       "\n",
       "    .dataframe thead th {\n",
       "        text-align: right;\n",
       "    }\n",
       "</style>\n",
       "<table border=\"1\" class=\"dataframe\">\n",
       "  <thead>\n",
       "    <tr style=\"text-align: right;\">\n",
       "      <th></th>\n",
       "      <th>Review</th>\n",
       "      <th>Rating</th>\n",
       "    </tr>\n",
       "  </thead>\n",
       "  <tbody>\n",
       "    <tr>\n",
       "      <th>0</th>\n",
       "      <td>Always wanted a good printer in my budget, and...</td>\n",
       "      <td>4</td>\n",
       "    </tr>\n",
       "    <tr>\n",
       "      <th>1</th>\n",
       "      <td>👍Epson Printer is very economical and useful f...</td>\n",
       "      <td>5</td>\n",
       "    </tr>\n",
       "    <tr>\n",
       "      <th>2</th>\n",
       "      <td>Superb Product with Superb Command Sensation &amp;...</td>\n",
       "      <td>5</td>\n",
       "    </tr>\n",
       "    <tr>\n",
       "      <th>3</th>\n",
       "      <td>Very good nice 👍👍👍👍👍</td>\n",
       "      <td>5</td>\n",
       "    </tr>\n",
       "    <tr>\n",
       "      <th>4</th>\n",
       "      <td>Good quality.....Photo supper..Plastic body li...</td>\n",
       "      <td>5</td>\n",
       "    </tr>\n",
       "  </tbody>\n",
       "</table>\n",
       "</div>"
      ],
      "text/plain": [
       "                                              Review Rating\n",
       "0  Always wanted a good printer in my budget, and...      4\n",
       "1  👍Epson Printer is very economical and useful f...      5\n",
       "2  Superb Product with Superb Command Sensation &...      5\n",
       "3                               Very good nice 👍👍👍👍👍      5\n",
       "4  Good quality.....Photo supper..Plastic body li...      5"
      ]
     },
     "execution_count": 27,
     "metadata": {},
     "output_type": "execute_result"
    }
   ],
   "source": [
    "Reviews.head()"
   ]
  },
  {
   "cell_type": "code",
   "execution_count": 28,
   "id": "27af403e",
   "metadata": {},
   "outputs": [],
   "source": [
    "# saving the dataframe\n",
    "Reviews.to_csv(r'C:\\\\Users\\\\DELL\\\\Desktop\\\\insss\\\\rate_review.csv', index=False)"
   ]
  }
 ],
 "metadata": {
  "kernelspec": {
   "display_name": "Python 3",
   "language": "python",
   "name": "python3"
  },
  "language_info": {
   "codemirror_mode": {
    "name": "ipython",
    "version": 3
   },
   "file_extension": ".py",
   "mimetype": "text/x-python",
   "name": "python",
   "nbconvert_exporter": "python",
   "pygments_lexer": "ipython3",
   "version": "3.8.8"
  }
 },
 "nbformat": 4,
 "nbformat_minor": 5
}
